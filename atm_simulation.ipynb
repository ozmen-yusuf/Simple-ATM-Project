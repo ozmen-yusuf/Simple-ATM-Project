{
 "cells": [
  {
   "cell_type": "markdown",
   "id": "be3b28b4",
   "metadata": {},
   "source": [
    "# Simple ATM Simulation in Python\n",
    "\n",
    "## 1. Project Overview\n",
    "This project is a command-line ATM simulation built with Python. Its purpose is to demonstrate fundamental programming concepts like loops, conditional logic, user input, and basic error handling, all within a familiar, real-world context. The code is organized into logical blocks for clarity."
   ]
  },
  {
   "cell_type": "code",
   "execution_count": 1,
   "id": "efe223b5",
   "metadata": {},
   "outputs": [],
   "source": [
    "# --- Initialization ---\n",
    "# We define the initial balance. In a real application, this would be fetched from a database.\n",
    "balance = 1000"
   ]
  },
  {
   "cell_type": "markdown",
   "id": "4c30c5aa",
   "metadata": {},
   "source": [
    "## 2. Main Application Loop\n",
    "The core of the application is a `while True` loop that continuously displays the menu and waits for user input. The logic for each operation (Check Balance, Deposit, Withdraw) is handled within this loop. The loop terminates only when the user chooses to quit."
   ]
  },
  {
   "cell_type": "code",
   "execution_count": 2,
   "id": "bc66c909",
   "metadata": {},
   "outputs": [
    {
     "name": "stdout",
     "output_type": "stream",
     "text": [
      "\n",
      "--- Financial Control Simulator ---\n",
      "1: Check Balance\n",
      "2: Deposit Money\n",
      "3: Withdraw Money\n",
      "q: Quit\n",
      "\n",
      "Your current balance is: $1000\n",
      "\n",
      "--- Financial Control Simulator ---\n",
      "1: Check Balance\n",
      "2: Deposit Money\n",
      "3: Withdraw Money\n",
      "q: Quit\n",
      "Deposit successful. New balance is: $1500\n",
      "\n",
      "--- Financial Control Simulator ---\n",
      "1: Check Balance\n",
      "2: Deposit Money\n",
      "3: Withdraw Money\n",
      "q: Quit\n",
      "Withdrawal successful. New balance is: $1250\n",
      "\n",
      "--- Financial Control Simulator ---\n",
      "1: Check Balance\n",
      "2: Deposit Money\n",
      "3: Withdraw Money\n",
      "q: Quit\n",
      "\n",
      "Exiting the simulator...\n"
     ]
    }
   ],
   "source": [
    "# This loop will run until the user presses 'q' to quit.\n",
    "while True:\n",
    "    # The '\\n' character ensures the menu is readable.\n",
    "    print(\"\\n--- Financial Control Simulator ---\")\n",
    "    print(\"1: Check Balance\")\n",
    "    print(\"2: Deposit Money\")\n",
    "    print(\"3: Withdraw Money\")\n",
    "    print(\"q: Quit\")\n",
    "\n",
    "    # Get the user's choice.\n",
    "    choice = input(\"Please select an operation (1, 2, 3, or q): \")\n",
    "\n",
    "    # Process the user's choice using an if-elif-else block.\n",
    "    if choice == '1':\n",
    "        print(f\"\\nYour current balance is: ${balance}\")\n",
    "\n",
    "    elif choice == '2':\n",
    "        deposit_str = input(\"Enter amount to deposit: \")\n",
    "        try:\n",
    "            amount = int(deposit_str)\n",
    "            if amount > 0:\n",
    "                balance += amount\n",
    "                print(f\"Deposit successful. New balance is: ${balance}\")\n",
    "            else:\n",
    "                print(\"\\nInvalid amount. Please enter a positive number.\")\n",
    "        except ValueError:\n",
    "            print(\"\\nError! Please enter only numbers.\")\n",
    "\n",
    "    elif choice == '3':\n",
    "        withdraw_str = input(\"Enter amount to withdraw: \")\n",
    "        try:\n",
    "            amount = int(withdraw_str)\n",
    "            if amount > 0:\n",
    "                if amount <= balance:\n",
    "                    balance -= amount\n",
    "                    print(f\"Withdrawal successful. New balance is: ${balance}\")\n",
    "                else:\n",
    "                    print(f\"\\nInsufficient balance! You only have ${balance}.\")\n",
    "            else:\n",
    "                print(\"\\nInvalid amount. Please enter a positive number.\")\n",
    "        except ValueError:\n",
    "            print(\"\\nError! Please enter only numbers.\")\n",
    "\n",
    "    elif choice == 'q':\n",
    "        print(\"\\nExiting the simulator...\")\n",
    "        break\n",
    "\n",
    "    else:\n",
    "        print(\"\\nInvalid operation. Please try again.\")"
   ]
  },
  {
   "cell_type": "markdown",
   "id": "b5d51a94",
   "metadata": {},
   "source": [
    "## 3. Conclusion\n",
    "The loop has been exited. The final message below confirms the end of the session."
   ]
  },
  {
   "cell_type": "code",
   "execution_count": 3,
   "id": "daa2ef33",
   "metadata": {},
   "outputs": [
    {
     "name": "stdout",
     "output_type": "stream",
     "text": [
      "\n",
      "Simulator session finished. Thank you.\n"
     ]
    }
   ],
   "source": [
    "# This final line runs after the loop is broken.\n",
    "print(\"\\nSimulator session finished. Thank you.\")"
   ]
  }
 ],
 "metadata": {
  "kernelspec": {
   "display_name": "Python 3",
   "language": "python",
   "name": "python3"
  },
  "language_info": {
   "codemirror_mode": {
    "name": "ipython",
    "version": 3
   },
   "file_extension": ".py",
   "mimetype": "text/x-python",
   "name": "python",
   "nbconvert_exporter": "python",
   "pygments_lexer": "ipython3",
   "version": "3.13.5"
  }
 },
 "nbformat": 4,
 "nbformat_minor": 5
}
